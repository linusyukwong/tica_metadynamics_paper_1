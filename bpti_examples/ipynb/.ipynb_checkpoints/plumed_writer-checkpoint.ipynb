{
 "cells": [
  {
   "cell_type": "code",
   "execution_count": 8,
   "metadata": {
    "collapsed": false
   },
   "outputs": [
    {
     "name": "stdout",
     "output_type": "stream",
     "text": [
      "Populating the interactive namespace from numpy and matplotlib\n"
     ]
    },
    {
     "name": "stderr",
     "output_type": "stream",
     "text": [
      "/Users/muneeb/anaconda/lib/python3.5/site-packages/IPython/core/magics/pylab.py:161: UserWarning: pylab import has clobbered these variables: ['load']\n",
      "`%matplotlib` prevents importing * from pylab and numpy\n",
      "  \"\\n`%matplotlib` prevents importing * from pylab and numpy\"\n"
     ]
    }
   ],
   "source": [
    "import pandas as pd \n",
    "import numpy as np\n",
    "import mdtraj as mdt\n",
    "%pylab  inline\n",
    "import seaborn as sns \n",
    "import os\n",
    "from msmbuilder.utils import dump,load"
   ]
  },
  {
   "cell_type": "code",
   "execution_count": 10,
   "metadata": {
    "collapsed": true
   },
   "outputs": [],
   "source": [
    "sns.set_context(\"talk\",1.3)\n",
    "sns.set_style(\"white\")"
   ]
  },
  {
   "cell_type": "code",
   "execution_count": 11,
   "metadata": {
    "collapsed": false
   },
   "outputs": [
    {
     "data": {
      "text/plain": [
       "'/Users/muneeb/Documents/research/metadynamics/paper_1/tica_metadynamics_paper/bpti_examples/ipynb'"
      ]
     },
     "execution_count": 11,
     "metadata": {},
     "output_type": "execute_result"
    }
   ],
   "source": [
    "pwd"
   ]
  },
  {
   "cell_type": "code",
   "execution_count": 25,
   "metadata": {
    "collapsed": false
   },
   "outputs": [],
   "source": [
    "class Protein(object):\n",
    "    def __init__(self, loc=os.path.abspath(\"../kernel_mdl/\"),tic_index=0):\n",
    "        self.loc = loc\n",
    "        self.top = mdt.load(os.path.join(self.loc,\"top.pdb\"))\n",
    "        self.df = pd.DataFrame(load(\"%s/feature_descriptor.pkl\"%self.loc))\n",
    "        \n",
    "        \n",
    "        self.meta_traj = mdt.load(os.path.join(self.loc,\"metad_data\",\"tic_%d\"%tic_index,\"tic_%d.xtc\"%tic_index),top=self.top)\n",
    "        self.feat = load(\"%s//featurizer.pkl\"%self.loc)\n",
    "        \n",
    "        self.tica_mdl = load(\"%s/tica_mdl.pkl\"%self.loc)\n",
    "        self.tica_mdl.weighted_transform = False\n",
    "        self.tica_mdl.commute_mapping = False\n",
    "        self.tica_feat  =load(\"%s/tica_data.pkl\"%self.loc)\n",
    "\n",
    "        \n",
    "        self.kmeans_mdl = load(\"%s/kmeans_mdl.pkl\"%self.loc)\n",
    "        self.assignments = load(\"%s/assignments.pkl\"%self.loc)\n",
    "        self.msm_mdl = load(\"%s/msm_mdl.pkl\"%self.loc)"
   ]
  },
  {
   "cell_type": "code",
   "execution_count": 26,
   "metadata": {
    "collapsed": false
   },
   "outputs": [],
   "source": [
    "prj = Protein()"
   ]
  },
  {
   "cell_type": "code",
   "execution_count": 29,
   "metadata": {
    "collapsed": false
   },
   "outputs": [
    {
     "data": {
      "text/html": [
       "<div>\n",
       "<table border=\"1\" class=\"dataframe\">\n",
       "  <thead>\n",
       "    <tr style=\"text-align: right;\">\n",
       "      <th></th>\n",
       "      <th>atominds</th>\n",
       "      <th>featuregroup</th>\n",
       "      <th>featurizer</th>\n",
       "      <th>otherinfo</th>\n",
       "      <th>resids</th>\n",
       "      <th>resnames</th>\n",
       "      <th>resseqs</th>\n",
       "    </tr>\n",
       "  </thead>\n",
       "  <tbody>\n",
       "    <tr>\n",
       "      <th>0</th>\n",
       "      <td>[0, 1, 2, 3, 4, 5, 6, 7, 8, 9, 10, 11, 12, 13,...</td>\n",
       "      <td>RMSD</td>\n",
       "      <td>LandMarkFeaturizer</td>\n",
       "      <td>0.3</td>\n",
       "      <td>[0, 1, 2, 3, 4, 5, 6, 7, 8, 9, 10, 11, 12, 13,...</td>\n",
       "      <td>[CYS, SER, TYR, VAL, MET, PRO, ARG, ALA, THR, ...</td>\n",
       "      <td>[1, 2, 3, 4, 5, 6, 7, 8, 9, 10, 11, 12, 13, 14...</td>\n",
       "    </tr>\n",
       "    <tr>\n",
       "      <th>1</th>\n",
       "      <td>[0, 1, 2, 3, 4, 5, 6, 7, 8, 9, 10, 11, 12, 13,...</td>\n",
       "      <td>RMSD</td>\n",
       "      <td>LandMarkFeaturizer</td>\n",
       "      <td>0.3</td>\n",
       "      <td>[0, 1, 2, 3, 4, 5, 6, 7, 8, 9, 10, 11, 12, 13,...</td>\n",
       "      <td>[CYS, SER, TYR, VAL, MET, PRO, ARG, ALA, THR, ...</td>\n",
       "      <td>[1, 2, 3, 4, 5, 6, 7, 8, 9, 10, 11, 12, 13, 14...</td>\n",
       "    </tr>\n",
       "    <tr>\n",
       "      <th>2</th>\n",
       "      <td>[0, 1, 2, 3, 4, 5, 6, 7, 8, 9, 10, 11, 12, 13,...</td>\n",
       "      <td>RMSD</td>\n",
       "      <td>LandMarkFeaturizer</td>\n",
       "      <td>0.3</td>\n",
       "      <td>[0, 1, 2, 3, 4, 5, 6, 7, 8, 9, 10, 11, 12, 13,...</td>\n",
       "      <td>[CYS, SER, TYR, VAL, MET, PRO, ARG, ALA, THR, ...</td>\n",
       "      <td>[1, 2, 3, 4, 5, 6, 7, 8, 9, 10, 11, 12, 13, 14...</td>\n",
       "    </tr>\n",
       "    <tr>\n",
       "      <th>3</th>\n",
       "      <td>[0, 1, 2, 3, 4, 5, 6, 7, 8, 9, 10, 11, 12, 13,...</td>\n",
       "      <td>RMSD</td>\n",
       "      <td>LandMarkFeaturizer</td>\n",
       "      <td>0.3</td>\n",
       "      <td>[0, 1, 2, 3, 4, 5, 6, 7, 8, 9, 10, 11, 12, 13,...</td>\n",
       "      <td>[CYS, SER, TYR, VAL, MET, PRO, ARG, ALA, THR, ...</td>\n",
       "      <td>[1, 2, 3, 4, 5, 6, 7, 8, 9, 10, 11, 12, 13, 14...</td>\n",
       "    </tr>\n",
       "    <tr>\n",
       "      <th>4</th>\n",
       "      <td>[0, 1, 2, 3, 4, 5, 6, 7, 8, 9, 10, 11, 12, 13,...</td>\n",
       "      <td>RMSD</td>\n",
       "      <td>LandMarkFeaturizer</td>\n",
       "      <td>0.3</td>\n",
       "      <td>[0, 1, 2, 3, 4, 5, 6, 7, 8, 9, 10, 11, 12, 13,...</td>\n",
       "      <td>[CYS, SER, TYR, VAL, MET, PRO, ARG, ALA, THR, ...</td>\n",
       "      <td>[1, 2, 3, 4, 5, 6, 7, 8, 9, 10, 11, 12, 13, 14...</td>\n",
       "    </tr>\n",
       "  </tbody>\n",
       "</table>\n",
       "</div>"
      ],
      "text/plain": [
       "                                            atominds featuregroup  \\\n",
       "0  [0, 1, 2, 3, 4, 5, 6, 7, 8, 9, 10, 11, 12, 13,...         RMSD   \n",
       "1  [0, 1, 2, 3, 4, 5, 6, 7, 8, 9, 10, 11, 12, 13,...         RMSD   \n",
       "2  [0, 1, 2, 3, 4, 5, 6, 7, 8, 9, 10, 11, 12, 13,...         RMSD   \n",
       "3  [0, 1, 2, 3, 4, 5, 6, 7, 8, 9, 10, 11, 12, 13,...         RMSD   \n",
       "4  [0, 1, 2, 3, 4, 5, 6, 7, 8, 9, 10, 11, 12, 13,...         RMSD   \n",
       "\n",
       "           featurizer otherinfo  \\\n",
       "0  LandMarkFeaturizer       0.3   \n",
       "1  LandMarkFeaturizer       0.3   \n",
       "2  LandMarkFeaturizer       0.3   \n",
       "3  LandMarkFeaturizer       0.3   \n",
       "4  LandMarkFeaturizer       0.3   \n",
       "\n",
       "                                              resids  \\\n",
       "0  [0, 1, 2, 3, 4, 5, 6, 7, 8, 9, 10, 11, 12, 13,...   \n",
       "1  [0, 1, 2, 3, 4, 5, 6, 7, 8, 9, 10, 11, 12, 13,...   \n",
       "2  [0, 1, 2, 3, 4, 5, 6, 7, 8, 9, 10, 11, 12, 13,...   \n",
       "3  [0, 1, 2, 3, 4, 5, 6, 7, 8, 9, 10, 11, 12, 13,...   \n",
       "4  [0, 1, 2, 3, 4, 5, 6, 7, 8, 9, 10, 11, 12, 13,...   \n",
       "\n",
       "                                            resnames  \\\n",
       "0  [CYS, SER, TYR, VAL, MET, PRO, ARG, ALA, THR, ...   \n",
       "1  [CYS, SER, TYR, VAL, MET, PRO, ARG, ALA, THR, ...   \n",
       "2  [CYS, SER, TYR, VAL, MET, PRO, ARG, ALA, THR, ...   \n",
       "3  [CYS, SER, TYR, VAL, MET, PRO, ARG, ALA, THR, ...   \n",
       "4  [CYS, SER, TYR, VAL, MET, PRO, ARG, ALA, THR, ...   \n",
       "\n",
       "                                             resseqs  \n",
       "0  [1, 2, 3, 4, 5, 6, 7, 8, 9, 10, 11, 12, 13, 14...  \n",
       "1  [1, 2, 3, 4, 5, 6, 7, 8, 9, 10, 11, 12, 13, 14...  \n",
       "2  [1, 2, 3, 4, 5, 6, 7, 8, 9, 10, 11, 12, 13, 14...  \n",
       "3  [1, 2, 3, 4, 5, 6, 7, 8, 9, 10, 11, 12, 13, 14...  \n",
       "4  [1, 2, 3, 4, 5, 6, 7, 8, 9, 10, 11, 12, 13, 14...  "
      ]
     },
     "execution_count": 29,
     "metadata": {},
     "output_type": "execute_result"
    }
   ],
   "source": [
    "prj.df.head()"
   ]
  },
  {
   "cell_type": "code",
   "execution_count": null,
   "metadata": {
    "collapsed": true
   },
   "outputs": [],
   "source": []
  },
  {
   "cell_type": "code",
   "execution_count": 33,
   "metadata": {
    "collapsed": true
   },
   "outputs": [],
   "source": [
    "prj.tic_min = [-1.17368,-4.32905,-5.16474,-5.34755,-6.92862]\n",
    "prj.tic_max = [10.50443,4.33583,5.93566,7.18473,9.308]"
   ]
  },
  {
   "cell_type": "code",
   "execution_count": 43,
   "metadata": {
    "collapsed": true
   },
   "outputs": [],
   "source": []
  },
  {
   "cell_type": "markdown",
   "metadata": {},
   "source": [
    "# PLUMED STUFF STARTS HERE"
   ]
  },
  {
   "cell_type": "code",
   "execution_count": 44,
   "metadata": {
    "collapsed": true
   },
   "outputs": [],
   "source": [
    "def create_rmsd_label(index,label):\n",
    "    #RMSD REFERENCE=file.pdb TYPE=OPTIMAL\n",
    "    return \"RMSD REFERENCE=../pdbs/%s.pdb TYPE=OPTIMAL LABEL=%s\"%(index,label)+\" \\\\n\\\\\"\n",
    "\n",
    "\n",
    "def create_mean_free_label(dihedral_feature_label, offset,):\n",
    "    #np.exp(-result**2/(2* self.sigma **2))\n",
    "    return \"MATHEVAL ARG=%s FUNC=exp(-(x)^2/(2*0.3^2))-%s LABEL=%s PERIODIC=NO\"\\\n",
    "%(dihedral_feature_label,offset,\"meanfree_\"+dihedral_feature_label)+\" \\\\n\\\\\""
   ]
  },
  {
   "cell_type": "code",
   "execution_count": 45,
   "metadata": {
    "collapsed": false
   },
   "outputs": [
    {
     "name": "stdout",
     "output_type": "stream",
     "text": [
      "(array([ 0,  1,  2,  3,  4,  5,  6,  7,  8,  9, 10, 11, 12, 13, 14, 15, 16,\n",
      "       17, 18, 19, 20, 21, 22, 23, 24, 25, 26, 27, 28, 29, 30, 31, 32, 33,\n",
      "       34, 35, 36, 37, 38, 39, 40, 41, 42, 43, 44, 45, 46, 47, 48, 49]),)\n",
      "RMSD REFERENCE=../pdbs/0.pdb TYPE=OPTIMAL LABEL=RMSD_0 \\n\\\n",
      "RMSD REFERENCE=../pdbs/1.pdb TYPE=OPTIMAL LABEL=RMSD_1 \\n\\\n",
      "RMSD REFERENCE=../pdbs/2.pdb TYPE=OPTIMAL LABEL=RMSD_2 \\n\\\n",
      "RMSD REFERENCE=../pdbs/3.pdb TYPE=OPTIMAL LABEL=RMSD_3 \\n\\\n",
      "RMSD REFERENCE=../pdbs/4.pdb TYPE=OPTIMAL LABEL=RMSD_4 \\n\\\n",
      "RMSD REFERENCE=../pdbs/5.pdb TYPE=OPTIMAL LABEL=RMSD_5 \\n\\\n",
      "RMSD REFERENCE=../pdbs/6.pdb TYPE=OPTIMAL LABEL=RMSD_6 \\n\\\n",
      "RMSD REFERENCE=../pdbs/7.pdb TYPE=OPTIMAL LABEL=RMSD_7 \\n\\\n",
      "RMSD REFERENCE=../pdbs/8.pdb TYPE=OPTIMAL LABEL=RMSD_8 \\n\\\n",
      "RMSD REFERENCE=../pdbs/9.pdb TYPE=OPTIMAL LABEL=RMSD_9 \\n\\\n",
      "RMSD REFERENCE=../pdbs/10.pdb TYPE=OPTIMAL LABEL=RMSD_10 \\n\\\n",
      "RMSD REFERENCE=../pdbs/11.pdb TYPE=OPTIMAL LABEL=RMSD_11 \\n\\\n",
      "RMSD REFERENCE=../pdbs/12.pdb TYPE=OPTIMAL LABEL=RMSD_12 \\n\\\n",
      "RMSD REFERENCE=../pdbs/13.pdb TYPE=OPTIMAL LABEL=RMSD_13 \\n\\\n",
      "RMSD REFERENCE=../pdbs/14.pdb TYPE=OPTIMAL LABEL=RMSD_14 \\n\\\n",
      "RMSD REFERENCE=../pdbs/15.pdb TYPE=OPTIMAL LABEL=RMSD_15 \\n\\\n",
      "RMSD REFERENCE=../pdbs/16.pdb TYPE=OPTIMAL LABEL=RMSD_16 \\n\\\n",
      "RMSD REFERENCE=../pdbs/17.pdb TYPE=OPTIMAL LABEL=RMSD_17 \\n\\\n",
      "RMSD REFERENCE=../pdbs/18.pdb TYPE=OPTIMAL LABEL=RMSD_18 \\n\\\n",
      "RMSD REFERENCE=../pdbs/19.pdb TYPE=OPTIMAL LABEL=RMSD_19 \\n\\\n",
      "RMSD REFERENCE=../pdbs/20.pdb TYPE=OPTIMAL LABEL=RMSD_20 \\n\\\n",
      "RMSD REFERENCE=../pdbs/21.pdb TYPE=OPTIMAL LABEL=RMSD_21 \\n\\\n",
      "RMSD REFERENCE=../pdbs/22.pdb TYPE=OPTIMAL LABEL=RMSD_22 \\n\\\n",
      "RMSD REFERENCE=../pdbs/23.pdb TYPE=OPTIMAL LABEL=RMSD_23 \\n\\\n",
      "RMSD REFERENCE=../pdbs/24.pdb TYPE=OPTIMAL LABEL=RMSD_24 \\n\\\n",
      "RMSD REFERENCE=../pdbs/25.pdb TYPE=OPTIMAL LABEL=RMSD_25 \\n\\\n",
      "RMSD REFERENCE=../pdbs/26.pdb TYPE=OPTIMAL LABEL=RMSD_26 \\n\\\n",
      "RMSD REFERENCE=../pdbs/27.pdb TYPE=OPTIMAL LABEL=RMSD_27 \\n\\\n",
      "RMSD REFERENCE=../pdbs/28.pdb TYPE=OPTIMAL LABEL=RMSD_28 \\n\\\n",
      "RMSD REFERENCE=../pdbs/29.pdb TYPE=OPTIMAL LABEL=RMSD_29 \\n\\\n",
      "RMSD REFERENCE=../pdbs/30.pdb TYPE=OPTIMAL LABEL=RMSD_30 \\n\\\n",
      "RMSD REFERENCE=../pdbs/31.pdb TYPE=OPTIMAL LABEL=RMSD_31 \\n\\\n",
      "RMSD REFERENCE=../pdbs/32.pdb TYPE=OPTIMAL LABEL=RMSD_32 \\n\\\n",
      "RMSD REFERENCE=../pdbs/33.pdb TYPE=OPTIMAL LABEL=RMSD_33 \\n\\\n",
      "RMSD REFERENCE=../pdbs/34.pdb TYPE=OPTIMAL LABEL=RMSD_34 \\n\\\n",
      "RMSD REFERENCE=../pdbs/35.pdb TYPE=OPTIMAL LABEL=RMSD_35 \\n\\\n",
      "RMSD REFERENCE=../pdbs/36.pdb TYPE=OPTIMAL LABEL=RMSD_36 \\n\\\n",
      "RMSD REFERENCE=../pdbs/37.pdb TYPE=OPTIMAL LABEL=RMSD_37 \\n\\\n",
      "RMSD REFERENCE=../pdbs/38.pdb TYPE=OPTIMAL LABEL=RMSD_38 \\n\\\n",
      "RMSD REFERENCE=../pdbs/39.pdb TYPE=OPTIMAL LABEL=RMSD_39 \\n\\\n",
      "RMSD REFERENCE=../pdbs/40.pdb TYPE=OPTIMAL LABEL=RMSD_40 \\n\\\n",
      "RMSD REFERENCE=../pdbs/41.pdb TYPE=OPTIMAL LABEL=RMSD_41 \\n\\\n",
      "RMSD REFERENCE=../pdbs/42.pdb TYPE=OPTIMAL LABEL=RMSD_42 \\n\\\n",
      "RMSD REFERENCE=../pdbs/43.pdb TYPE=OPTIMAL LABEL=RMSD_43 \\n\\\n",
      "RMSD REFERENCE=../pdbs/44.pdb TYPE=OPTIMAL LABEL=RMSD_44 \\n\\\n",
      "RMSD REFERENCE=../pdbs/45.pdb TYPE=OPTIMAL LABEL=RMSD_45 \\n\\\n",
      "RMSD REFERENCE=../pdbs/46.pdb TYPE=OPTIMAL LABEL=RMSD_46 \\n\\\n",
      "RMSD REFERENCE=../pdbs/47.pdb TYPE=OPTIMAL LABEL=RMSD_47 \\n\\\n",
      "RMSD REFERENCE=../pdbs/48.pdb TYPE=OPTIMAL LABEL=RMSD_48 \\n\\\n",
      "RMSD REFERENCE=../pdbs/49.pdb TYPE=OPTIMAL LABEL=RMSD_49 \\n\\\n",
      "MATHEVAL ARG=RMSD_0 FUNC=exp(-(x)^2/(2*0.3^2))-0.59414107014 LABEL=meanfree_RMSD_0 PERIODIC=NO \\n\\\n",
      "MATHEVAL ARG=RMSD_1 FUNC=exp(-(x)^2/(2*0.3^2))-0.582297217414 LABEL=meanfree_RMSD_1 PERIODIC=NO \\n\\\n",
      "MATHEVAL ARG=RMSD_2 FUNC=exp(-(x)^2/(2*0.3^2))-0.600958521638 LABEL=meanfree_RMSD_2 PERIODIC=NO \\n\\\n",
      "MATHEVAL ARG=RMSD_3 FUNC=exp(-(x)^2/(2*0.3^2))-0.691446170819 LABEL=meanfree_RMSD_3 PERIODIC=NO \\n\\\n",
      "MATHEVAL ARG=RMSD_4 FUNC=exp(-(x)^2/(2*0.3^2))-0.69745940462 LABEL=meanfree_RMSD_4 PERIODIC=NO \\n\\\n",
      "MATHEVAL ARG=RMSD_5 FUNC=exp(-(x)^2/(2*0.3^2))-0.707434960325 LABEL=meanfree_RMSD_5 PERIODIC=NO \\n\\\n",
      "MATHEVAL ARG=RMSD_6 FUNC=exp(-(x)^2/(2*0.3^2))-0.375700844666 LABEL=meanfree_RMSD_6 PERIODIC=NO \\n\\\n",
      "MATHEVAL ARG=RMSD_7 FUNC=exp(-(x)^2/(2*0.3^2))-0.679822899488 LABEL=meanfree_RMSD_7 PERIODIC=NO \\n\\\n",
      "MATHEVAL ARG=RMSD_8 FUNC=exp(-(x)^2/(2*0.3^2))-0.478836853025 LABEL=meanfree_RMSD_8 PERIODIC=NO \\n\\\n",
      "MATHEVAL ARG=RMSD_9 FUNC=exp(-(x)^2/(2*0.3^2))-0.573409572027 LABEL=meanfree_RMSD_9 PERIODIC=NO \\n\\\n",
      "MATHEVAL ARG=RMSD_10 FUNC=exp(-(x)^2/(2*0.3^2))-0.578173578267 LABEL=meanfree_RMSD_10 PERIODIC=NO \\n\\\n",
      "MATHEVAL ARG=RMSD_11 FUNC=exp(-(x)^2/(2*0.3^2))-0.588984872488 LABEL=meanfree_RMSD_11 PERIODIC=NO \\n\\\n",
      "MATHEVAL ARG=RMSD_12 FUNC=exp(-(x)^2/(2*0.3^2))-0.563516682334 LABEL=meanfree_RMSD_12 PERIODIC=NO \\n\\\n",
      "MATHEVAL ARG=RMSD_13 FUNC=exp(-(x)^2/(2*0.3^2))-0.616158286034 LABEL=meanfree_RMSD_13 PERIODIC=NO \\n\\\n",
      "MATHEVAL ARG=RMSD_14 FUNC=exp(-(x)^2/(2*0.3^2))-0.676435698369 LABEL=meanfree_RMSD_14 PERIODIC=NO \\n\\\n",
      "MATHEVAL ARG=RMSD_15 FUNC=exp(-(x)^2/(2*0.3^2))-0.720796365147 LABEL=meanfree_RMSD_15 PERIODIC=NO \\n\\\n",
      "MATHEVAL ARG=RMSD_16 FUNC=exp(-(x)^2/(2*0.3^2))-0.682216998655 LABEL=meanfree_RMSD_16 PERIODIC=NO \\n\\\n",
      "MATHEVAL ARG=RMSD_17 FUNC=exp(-(x)^2/(2*0.3^2))-0.424841519119 LABEL=meanfree_RMSD_17 PERIODIC=NO \\n\\\n",
      "MATHEVAL ARG=RMSD_18 FUNC=exp(-(x)^2/(2*0.3^2))-0.683712353014 LABEL=meanfree_RMSD_18 PERIODIC=NO \\n\\\n",
      "MATHEVAL ARG=RMSD_19 FUNC=exp(-(x)^2/(2*0.3^2))-0.480934738272 LABEL=meanfree_RMSD_19 PERIODIC=NO \\n\\\n",
      "MATHEVAL ARG=RMSD_20 FUNC=exp(-(x)^2/(2*0.3^2))-0.693693571241 LABEL=meanfree_RMSD_20 PERIODIC=NO \\n\\\n",
      "MATHEVAL ARG=RMSD_21 FUNC=exp(-(x)^2/(2*0.3^2))-0.41102267869 LABEL=meanfree_RMSD_21 PERIODIC=NO \\n\\\n",
      "MATHEVAL ARG=RMSD_22 FUNC=exp(-(x)^2/(2*0.3^2))-0.595816799598 LABEL=meanfree_RMSD_22 PERIODIC=NO \\n\\\n",
      "MATHEVAL ARG=RMSD_23 FUNC=exp(-(x)^2/(2*0.3^2))-0.699928524132 LABEL=meanfree_RMSD_23 PERIODIC=NO \\n\\\n",
      "MATHEVAL ARG=RMSD_24 FUNC=exp(-(x)^2/(2*0.3^2))-0.536111850756 LABEL=meanfree_RMSD_24 PERIODIC=NO \\n\\\n",
      "MATHEVAL ARG=RMSD_25 FUNC=exp(-(x)^2/(2*0.3^2))-0.600407390899 LABEL=meanfree_RMSD_25 PERIODIC=NO \\n\\\n",
      "MATHEVAL ARG=RMSD_26 FUNC=exp(-(x)^2/(2*0.3^2))-0.497128924814 LABEL=meanfree_RMSD_26 PERIODIC=NO \\n\\\n",
      "MATHEVAL ARG=RMSD_27 FUNC=exp(-(x)^2/(2*0.3^2))-0.556904127113 LABEL=meanfree_RMSD_27 PERIODIC=NO \\n\\\n",
      "MATHEVAL ARG=RMSD_28 FUNC=exp(-(x)^2/(2*0.3^2))-0.612423613618 LABEL=meanfree_RMSD_28 PERIODIC=NO \\n\\\n",
      "MATHEVAL ARG=RMSD_29 FUNC=exp(-(x)^2/(2*0.3^2))-0.714581272215 LABEL=meanfree_RMSD_29 PERIODIC=NO \\n\\\n",
      "MATHEVAL ARG=RMSD_30 FUNC=exp(-(x)^2/(2*0.3^2))-0.72507167883 LABEL=meanfree_RMSD_30 PERIODIC=NO \\n\\\n",
      "MATHEVAL ARG=RMSD_31 FUNC=exp(-(x)^2/(2*0.3^2))-0.575719067691 LABEL=meanfree_RMSD_31 PERIODIC=NO \\n\\\n",
      "MATHEVAL ARG=RMSD_32 FUNC=exp(-(x)^2/(2*0.3^2))-0.565763000345 LABEL=meanfree_RMSD_32 PERIODIC=NO \\n\\\n",
      "MATHEVAL ARG=RMSD_33 FUNC=exp(-(x)^2/(2*0.3^2))-0.571205997305 LABEL=meanfree_RMSD_33 PERIODIC=NO \\n\\\n",
      "MATHEVAL ARG=RMSD_34 FUNC=exp(-(x)^2/(2*0.3^2))-0.629004525978 LABEL=meanfree_RMSD_34 PERIODIC=NO \\n\\\n",
      "MATHEVAL ARG=RMSD_35 FUNC=exp(-(x)^2/(2*0.3^2))-0.585237787924 LABEL=meanfree_RMSD_35 PERIODIC=NO \\n\\\n",
      "MATHEVAL ARG=RMSD_36 FUNC=exp(-(x)^2/(2*0.3^2))-0.565897382521 LABEL=meanfree_RMSD_36 PERIODIC=NO \\n\\\n",
      "MATHEVAL ARG=RMSD_37 FUNC=exp(-(x)^2/(2*0.3^2))-0.69046892534 LABEL=meanfree_RMSD_37 PERIODIC=NO \\n\\\n",
      "MATHEVAL ARG=RMSD_38 FUNC=exp(-(x)^2/(2*0.3^2))-0.500260926334 LABEL=meanfree_RMSD_38 PERIODIC=NO \\n\\\n",
      "MATHEVAL ARG=RMSD_39 FUNC=exp(-(x)^2/(2*0.3^2))-0.392624141736 LABEL=meanfree_RMSD_39 PERIODIC=NO \\n\\\n",
      "MATHEVAL ARG=RMSD_40 FUNC=exp(-(x)^2/(2*0.3^2))-0.731062401611 LABEL=meanfree_RMSD_40 PERIODIC=NO \\n\\\n",
      "MATHEVAL ARG=RMSD_41 FUNC=exp(-(x)^2/(2*0.3^2))-0.401209880499 LABEL=meanfree_RMSD_41 PERIODIC=NO \\n\\\n",
      "MATHEVAL ARG=RMSD_42 FUNC=exp(-(x)^2/(2*0.3^2))-0.732691583965 LABEL=meanfree_RMSD_42 PERIODIC=NO \\n\\\n",
      "MATHEVAL ARG=RMSD_43 FUNC=exp(-(x)^2/(2*0.3^2))-0.707759824364 LABEL=meanfree_RMSD_43 PERIODIC=NO \\n\\\n",
      "MATHEVAL ARG=RMSD_44 FUNC=exp(-(x)^2/(2*0.3^2))-0.557331948115 LABEL=meanfree_RMSD_44 PERIODIC=NO \\n\\\n",
      "MATHEVAL ARG=RMSD_45 FUNC=exp(-(x)^2/(2*0.3^2))-0.571440355084 LABEL=meanfree_RMSD_45 PERIODIC=NO \\n\\\n",
      "MATHEVAL ARG=RMSD_46 FUNC=exp(-(x)^2/(2*0.3^2))-0.699197031108 LABEL=meanfree_RMSD_46 PERIODIC=NO \\n\\\n",
      "MATHEVAL ARG=RMSD_47 FUNC=exp(-(x)^2/(2*0.3^2))-0.674975195477 LABEL=meanfree_RMSD_47 PERIODIC=NO \\n\\\n",
      "MATHEVAL ARG=RMSD_48 FUNC=exp(-(x)^2/(2*0.3^2))-0.58130550508 LABEL=meanfree_RMSD_48 PERIODIC=NO \\n\\\n",
      "MATHEVAL ARG=RMSD_49 FUNC=exp(-(x)^2/(2*0.3^2))-0.45880362271 LABEL=meanfree_RMSD_49 PERIODIC=NO \\n\\\n",
      "COMBINE LABEL=tic0 ARG=meanfree_RMSD_0,meanfree_RMSD_1,meanfree_RMSD_2,meanfree_RMSD_3,meanfree_RMSD_4,meanfree_RMSD_5,meanfree_RMSD_6,meanfree_RMSD_7,meanfree_RMSD_8,meanfree_RMSD_9,meanfree_RMSD_10,meanfree_RMSD_11,meanfree_RMSD_12,meanfree_RMSD_13,meanfree_RMSD_14,meanfree_RMSD_15,meanfree_RMSD_16,meanfree_RMSD_17,meanfree_RMSD_18,meanfree_RMSD_19,meanfree_RMSD_20,meanfree_RMSD_21,meanfree_RMSD_22,meanfree_RMSD_23,meanfree_RMSD_24,meanfree_RMSD_25,meanfree_RMSD_26,meanfree_RMSD_27,meanfree_RMSD_28,meanfree_RMSD_29,meanfree_RMSD_30,meanfree_RMSD_31,meanfree_RMSD_32,meanfree_RMSD_33,meanfree_RMSD_34,meanfree_RMSD_35,meanfree_RMSD_36,meanfree_RMSD_37,meanfree_RMSD_38,meanfree_RMSD_39,meanfree_RMSD_40,meanfree_RMSD_41,meanfree_RMSD_42,meanfree_RMSD_43,meanfree_RMSD_44,meanfree_RMSD_45,meanfree_RMSD_46,meanfree_RMSD_47,meanfree_RMSD_48,meanfree_RMSD_49 COEFFICIENTS=0.440534315884,1.64004015973,-0.43077890306,-2.16443338594,-1.51452166994,0.378208382845,3.37300588983,-0.491325496279,-4.66512166985,-4.33946603605,0.941724545519,-1.227844378,-1.3623420404,0.572279625486,-0.423128335021,0.558264941321,-1.77501431903,0.418758571858,1.13502846701,0.52453058768,0.716533473793,2.17684292953,1.44841645993,-1.07173175325,-0.3408563225,0.709119153263,1.65588490882,-0.650693538962,-4.10084798384,2.48710277568,1.55329216166,4.22560660243,-4.37648108767,-0.601316769861,-1.56500083461,-1.2959263127,3.60211227353,-0.139982058955,1.67587066483,5.9980238947,-1.81637784964,-0.288057124201,-1.19159861299,-0.00613924891253,1.55673192573,-0.353441932416,-0.68737848716,-1.16763757467,0.697486812419,3.11822307364 PERIODIC=NO \\n\\\n",
      "(array([ 0,  1,  2,  3,  4,  5,  6,  7,  8,  9, 10, 11, 12, 13, 14, 15, 16,\n",
      "       17, 18, 19, 20, 21, 22, 23, 24, 25, 26, 27, 28, 29, 30, 31, 32, 33,\n",
      "       34, 35, 36, 37, 38, 39, 40, 41, 42, 43, 44, 45, 46, 47, 48, 49]),)\n",
      "COMBINE LABEL=tic1 ARG=meanfree_RMSD_0,meanfree_RMSD_1,meanfree_RMSD_2,meanfree_RMSD_3,meanfree_RMSD_4,meanfree_RMSD_5,meanfree_RMSD_6,meanfree_RMSD_7,meanfree_RMSD_8,meanfree_RMSD_9,meanfree_RMSD_10,meanfree_RMSD_11,meanfree_RMSD_12,meanfree_RMSD_13,meanfree_RMSD_14,meanfree_RMSD_15,meanfree_RMSD_16,meanfree_RMSD_17,meanfree_RMSD_18,meanfree_RMSD_19,meanfree_RMSD_20,meanfree_RMSD_21,meanfree_RMSD_22,meanfree_RMSD_23,meanfree_RMSD_24,meanfree_RMSD_25,meanfree_RMSD_26,meanfree_RMSD_27,meanfree_RMSD_28,meanfree_RMSD_29,meanfree_RMSD_30,meanfree_RMSD_31,meanfree_RMSD_32,meanfree_RMSD_33,meanfree_RMSD_34,meanfree_RMSD_35,meanfree_RMSD_36,meanfree_RMSD_37,meanfree_RMSD_38,meanfree_RMSD_39,meanfree_RMSD_40,meanfree_RMSD_41,meanfree_RMSD_42,meanfree_RMSD_43,meanfree_RMSD_44,meanfree_RMSD_45,meanfree_RMSD_46,meanfree_RMSD_47,meanfree_RMSD_48,meanfree_RMSD_49 COEFFICIENTS=-2.79246428968,1.42738468913,-3.03405376585,-5.45587136855,-1.20503371693,4.22769648179,-3.21237943509,-0.633100180889,7.54822319201,-0.38111043521,4.1528040069,8.60044191382,2.21119553363,4.02642229431,2.0066390186,-3.79931979169,-0.824629006316,-3.3425810592,-4.26046873406,0.78436661522,-1.76252617888,0.0471686524156,1.52023700403,-0.359561484536,1.56242261283,-1.85924052158,-2.40646076977,-3.09580938284,4.44990635811,-3.25669519806,-4.38802545494,-4.39000745838,0.676688736772,4.79838235004,3.22918395327,1.52183667357,-0.426416358514,-1.07299673703,-3.51249446815,-2.82975189825,-3.93453983213,-1.5727108278,0.64749066147,4.28205013099,0.275135024831,0.153643571219,1.79045578246,3.95801561871,3.02577575732,-5.00379353858 PERIODIC=NO \\n\\\n",
      "(array([ 0,  1,  2,  3,  4,  5,  6,  7,  8,  9, 10, 11, 12, 13, 14, 15, 16,\n",
      "       17, 18, 19, 20, 21, 22, 23, 24, 25, 26, 27, 28, 29, 30, 31, 32, 33,\n",
      "       34, 35, 36, 37, 38, 39, 40, 41, 42, 43, 44, 45, 46, 47, 48, 49]),)\n",
      "COMBINE LABEL=tic2 ARG=meanfree_RMSD_0,meanfree_RMSD_1,meanfree_RMSD_2,meanfree_RMSD_3,meanfree_RMSD_4,meanfree_RMSD_5,meanfree_RMSD_6,meanfree_RMSD_7,meanfree_RMSD_8,meanfree_RMSD_9,meanfree_RMSD_10,meanfree_RMSD_11,meanfree_RMSD_12,meanfree_RMSD_13,meanfree_RMSD_14,meanfree_RMSD_15,meanfree_RMSD_16,meanfree_RMSD_17,meanfree_RMSD_18,meanfree_RMSD_19,meanfree_RMSD_20,meanfree_RMSD_21,meanfree_RMSD_22,meanfree_RMSD_23,meanfree_RMSD_24,meanfree_RMSD_25,meanfree_RMSD_26,meanfree_RMSD_27,meanfree_RMSD_28,meanfree_RMSD_29,meanfree_RMSD_30,meanfree_RMSD_31,meanfree_RMSD_32,meanfree_RMSD_33,meanfree_RMSD_34,meanfree_RMSD_35,meanfree_RMSD_36,meanfree_RMSD_37,meanfree_RMSD_38,meanfree_RMSD_39,meanfree_RMSD_40,meanfree_RMSD_41,meanfree_RMSD_42,meanfree_RMSD_43,meanfree_RMSD_44,meanfree_RMSD_45,meanfree_RMSD_46,meanfree_RMSD_47,meanfree_RMSD_48,meanfree_RMSD_49 COEFFICIENTS=-1.19688303957,6.51210915727,3.57894625383,1.94684463415,3.64494212283,-2.97885622232,-0.0726704281842,-3.1350668513,-0.451426663464,5.19524038048,0.371167942307,-2.66893621829,3.58582920029,-1.83422716366,4.58298845835,-4.52535177665,0.42502931419,-5.61203756346,-8.74355911488,-1.96177713254,-2.50038370103,-5.76277684818,1.68236094278,-2.26441255146,1.03152149207,2.0744359763,2.32442841496,-2.60497082345,-4.80454892247,3.90610968995,3.22307759699,-3.28516831877,-1.51117083822,1.1199823196,2.20004735583,-1.52364075757,-3.6542555368,-0.486136448799,2.12179750883,0.616904321795,8.75257680594,1.63256492106,-4.29918784704,0.939074457712,9.2936571066,-2.20758494491,-1.53373495596,-6.61543962311,8.26461124186,-0.763768454267 PERIODIC=NO \\n\\\n",
      "(array([ 0,  1,  2,  3,  4,  5,  6,  7,  8,  9, 10, 11, 12, 13, 14, 15, 16,\n",
      "       17, 18, 19, 20, 21, 22, 23, 24, 25, 26, 27, 28, 29, 30, 31, 32, 33,\n",
      "       34, 35, 36, 37, 38, 39, 40, 41, 42, 43, 44, 45, 46, 47, 48, 49]),)\n",
      "COMBINE LABEL=tic3 ARG=meanfree_RMSD_0,meanfree_RMSD_1,meanfree_RMSD_2,meanfree_RMSD_3,meanfree_RMSD_4,meanfree_RMSD_5,meanfree_RMSD_6,meanfree_RMSD_7,meanfree_RMSD_8,meanfree_RMSD_9,meanfree_RMSD_10,meanfree_RMSD_11,meanfree_RMSD_12,meanfree_RMSD_13,meanfree_RMSD_14,meanfree_RMSD_15,meanfree_RMSD_16,meanfree_RMSD_17,meanfree_RMSD_18,meanfree_RMSD_19,meanfree_RMSD_20,meanfree_RMSD_21,meanfree_RMSD_22,meanfree_RMSD_23,meanfree_RMSD_24,meanfree_RMSD_25,meanfree_RMSD_26,meanfree_RMSD_27,meanfree_RMSD_28,meanfree_RMSD_29,meanfree_RMSD_30,meanfree_RMSD_31,meanfree_RMSD_32,meanfree_RMSD_33,meanfree_RMSD_34,meanfree_RMSD_35,meanfree_RMSD_36,meanfree_RMSD_37,meanfree_RMSD_38,meanfree_RMSD_39,meanfree_RMSD_40,meanfree_RMSD_41,meanfree_RMSD_42,meanfree_RMSD_43,meanfree_RMSD_44,meanfree_RMSD_45,meanfree_RMSD_46,meanfree_RMSD_47,meanfree_RMSD_48,meanfree_RMSD_49 COEFFICIENTS=-10.4815751106,-1.77534996262,12.1361879334,0.110977155488,1.95532999828,8.44564532133,-16.9893951519,-1.18901513585,2.85268148438,3.73505635717,-0.996556045917,4.23922862875,-2.1399381598,13.861037605,-0.476662494773,-2.18086854015,3.43404659371,7.4623018571,-5.3937422287,2.58581151021,-11.0415046843,5.37584505892,1.05799464465,2.80894185924,-11.8392087838,-1.17852400252,-8.10102921315,0.279367267898,4.79270536329,-4.15939636889,-10.5771311586,0.341670225244,5.866014833,2.36548013115,1.79070115785,-2.76890554961,3.73442560435,-0.774562906228,0.241850513696,7.11891729758,-1.033638565,-3.48601596897,-4.00357928592,-0.988785861266,-3.34734827484,4.37401791672,4.04654774725,-0.217639169176,-0.552654241056,-1.40548893084 PERIODIC=NO \\n\\\n",
      "(array([ 0,  1,  2,  3,  4,  5,  6,  7,  8,  9, 10, 11, 12, 13, 14, 15, 16,\n",
      "       17, 18, 19, 20, 21, 22, 23, 24, 25, 26, 27, 28, 29, 30, 31, 32, 33,\n",
      "       34, 35, 36, 37, 38, 39, 40, 41, 42, 43, 44, 45, 46, 47, 48, 49]),)\n",
      "COMBINE LABEL=tic4 ARG=meanfree_RMSD_0,meanfree_RMSD_1,meanfree_RMSD_2,meanfree_RMSD_3,meanfree_RMSD_4,meanfree_RMSD_5,meanfree_RMSD_6,meanfree_RMSD_7,meanfree_RMSD_8,meanfree_RMSD_9,meanfree_RMSD_10,meanfree_RMSD_11,meanfree_RMSD_12,meanfree_RMSD_13,meanfree_RMSD_14,meanfree_RMSD_15,meanfree_RMSD_16,meanfree_RMSD_17,meanfree_RMSD_18,meanfree_RMSD_19,meanfree_RMSD_20,meanfree_RMSD_21,meanfree_RMSD_22,meanfree_RMSD_23,meanfree_RMSD_24,meanfree_RMSD_25,meanfree_RMSD_26,meanfree_RMSD_27,meanfree_RMSD_28,meanfree_RMSD_29,meanfree_RMSD_30,meanfree_RMSD_31,meanfree_RMSD_32,meanfree_RMSD_33,meanfree_RMSD_34,meanfree_RMSD_35,meanfree_RMSD_36,meanfree_RMSD_37,meanfree_RMSD_38,meanfree_RMSD_39,meanfree_RMSD_40,meanfree_RMSD_41,meanfree_RMSD_42,meanfree_RMSD_43,meanfree_RMSD_44,meanfree_RMSD_45,meanfree_RMSD_46,meanfree_RMSD_47,meanfree_RMSD_48,meanfree_RMSD_49 COEFFICIENTS=1.31159549403,-6.70412657278,0.615313574124,-4.72748151415,6.88542193502,-2.47016862139,4.25958736055,-2.32946681594,2.68939383848,-3.37565736641,7.27150764355,0.268982953044,0.00751321967337,-5.58502499645,0.441144404388,2.85358075964,-3.74628553896,8.54750403296,5.08195114818,4.21834052484,7.31496160998,-9.56291252716,-4.11584170757,-1.63438568613,7.5979189081,-0.46282885,-0.349683761314,11.3269188527,5.36094361164,-0.262278833172,-6.63645088119,10.0062634624,-13.2755523002,-13.4014367976,0.263622560208,2.2846488718,-2.17026437985,5.09140900967,-8.88905611605,-13.4682129302,0.114507801926,10.5082479444,1.13909292339,-1.37819294936,3.68152044326,-11.8575256862,1.84044462998,-1.2916747623,0.69160579549,7.00565301066 PERIODIC=NO \\n\"\n",
      "METAD ARG=tic0 SIGMA=0.2 HEIGHT=1 FILE=HILLS BIASFACTOR=1000 TEMP=300 GRID_MIN=-1.17368 GRID_MAX=10.50443 PACE=1000 LABEL=metad \\n\\\n",
      "PRINT ARG=tic0,tic1,tic2,tic3,tic4 STRIDE=1000 FILE=COLVAR \\n\\\n",
      "PRINT ARG=tic0,metad.bias STRIDE=1000 FILE=BIAS.0 \\n\"\n",
      "METAD ARG=tic1 SIGMA=0.2 HEIGHT=1 FILE=HILLS BIASFACTOR=1000 TEMP=300 GRID_MIN=-4.32905 GRID_MAX=4.33583 PACE=1000 LABEL=metad \\n\\\n",
      "PRINT ARG=tic0,tic1,tic2,tic3,tic4 STRIDE=1000 FILE=COLVAR \\n\\\n",
      "PRINT ARG=tic1,metad.bias STRIDE=1000 FILE=BIAS.1 \\n\"\n",
      "METAD ARG=tic2 SIGMA=0.2 HEIGHT=1 FILE=HILLS BIASFACTOR=1000 TEMP=300 GRID_MIN=-5.16474 GRID_MAX=5.93566 PACE=1000 LABEL=metad \\n\\\n",
      "PRINT ARG=tic0,tic1,tic2,tic3,tic4 STRIDE=1000 FILE=COLVAR \\n\\\n",
      "PRINT ARG=tic2,metad.bias STRIDE=1000 FILE=BIAS.2 \\n\"\n",
      "METAD ARG=tic3 SIGMA=0.2 HEIGHT=1 FILE=HILLS BIASFACTOR=1000 TEMP=300 GRID_MIN=-5.34755 GRID_MAX=7.18473 PACE=1000 LABEL=metad \\n\\\n",
      "PRINT ARG=tic0,tic1,tic2,tic3,tic4 STRIDE=1000 FILE=COLVAR \\n\\\n",
      "PRINT ARG=tic3,metad.bias STRIDE=1000 FILE=BIAS.3 \\n\"\n",
      "METAD ARG=tic4 SIGMA=0.2 HEIGHT=1 FILE=HILLS BIASFACTOR=1000 TEMP=300 GRID_MIN=-6.92862 GRID_MAX=9.308 PACE=1000 LABEL=metad \\n\\\n",
      "PRINT ARG=tic0,tic1,tic2,tic3,tic4 STRIDE=1000 FILE=COLVAR \\n\\\n",
      "PRINT ARG=tic4,metad.bias STRIDE=1000 FILE=BIAS.4 \\n\"\n"
     ]
    }
   ],
   "source": [
    "already_done_list=[]\n",
    "already_done_transformed_list=[]\n",
    "already_done_meanfree_list=[]\n",
    "\n",
    "f = open(\"./plumed.py\",'w')\n",
    "f.write(\"plumed_script=\\\"RESTART \"+\"\\\\n\\\\\"+\"\\n\")\n",
    "grid_min_list=[]\n",
    "grid_max_list=[]\n",
    "arg_list=[]\n",
    "sigma_list=[]\n",
    "height=1\n",
    "pace=1000\n",
    "BIASFACTOR=1000\n",
    "TEMP=300\n",
    "n_tics=5\n",
    "for tic_index in range(n_tics):\n",
    "\n",
    "    combine_args_list=[]\n",
    "    combine_coefficent_list=[]\n",
    "\n",
    "    inds = np.nonzero(prj.tica_mdl.components_[tic_index,:])\n",
    "    #for every feature, we need the rmsd\n",
    "    print(inds)\n",
    "    for j in prj.df.iloc[inds].iterrows():\n",
    "        feature_index = j[0]\n",
    "        atominds = j[1][\"atominds\"]\n",
    "        resids = j[1][\"resids\"]\n",
    "        dih_label = j[1][\"featuregroup\"]+\"_%s\"%(feature_index)\n",
    "\n",
    "        if dih_label not in already_done_list:\n",
    "            #need to add one because plumed is 1 indexed and mdtraj is not\n",
    "            output = create_rmsd_label(feature_index,label=dih_label)\n",
    "            print(output)\n",
    "            f.writelines(output+\"\\n\")\n",
    "            already_done_list.append(dih_label)\n",
    "\n",
    "    # now we need the exponetial mean free transform\n",
    "    for j in prj.df.iloc[inds].iterrows():\n",
    "        feature_index = j[0]\n",
    "        atominds = j[1][\"atominds\"]\n",
    "        resids = j[1][\"resids\"]\n",
    "        otherinfo = j[1][\"otherinfo\"]\n",
    "        dih_label = j[1][\"featuregroup\"]+\"_%s\"%(feature_index)\n",
    "        feature_label = \"meanfree_\"+j[1][\"featuregroup\"]+\"_%s\"%(feature_index)\n",
    "\n",
    "        if feature_label not in already_done_meanfree_list:\n",
    "            output = create_mean_free_label(dih_label, prj.tica_mdl.means_[feature_index])\n",
    "            print(output)\n",
    "            f.writelines(output+\"\\n\")\n",
    "            already_done_meanfree_list.append(feature_label)\n",
    "            already_done_transformed_list.append(feature_label)\n",
    "\n",
    "\n",
    "    for j in prj.df.iloc[inds].iterrows():\n",
    "        feature_index = j[0]\n",
    "        residue_indices = j[1][\"resids\"]\n",
    "        atominds = j[1][\"atominds\"]\n",
    "        resids = j[1][\"resids\"]\n",
    "        otherinfo = j[1][\"otherinfo\"]\n",
    "        feature_label = \"meanfree_\"+j[1][\"featuregroup\"]+\"_%s\"%(feature_index)\n",
    "\n",
    "        #this is the tic coefficent\n",
    "        tic_coefficient = prj.tica_mdl.components_[tic_index,feature_index]\n",
    "        if prj.tica_mdl.kinetic_mapping:\n",
    "            tic_coefficient *= prj.tica_mdl.eigenvalues_[tic_index]\n",
    "\n",
    "\n",
    "        #tic_coefficient = a[feature_index]\n",
    "        label=\"tic%d%d\"%(tic_index,feature_index)\n",
    "\n",
    "        combine_args_list.append(feature_label)\n",
    "        combine_coefficent_list.append(str(tic_coefficient))\n",
    "    \n",
    "    output= \"COMBINE LABEL=tic%d\"%tic_index+\" ARG=%s\"%(','.join(combine_args_list))+\\\n",
    "    \" COEFFICIENTS=%s\"%(','.join(combine_coefficent_list))+\" PERIODIC=NO\"\n",
    "    if tic_index!=4:\n",
    "        output += \" \\\\n\\\\\"\n",
    "    else:\n",
    "        output += \" \\\\n\\\"\"\n",
    "    \n",
    "    print(output)\n",
    "    f.writelines(output+\"\\n\")\n",
    "\n",
    "    grid_min_list.append(\"%s\"%np.round(prj.tic_min[tic_index],5))\n",
    "    grid_max_list.append(\"%s\"%np.round(prj.tic_max[tic_index],5))\n",
    "    arg_list.append(\"tic%d\"%tic_index)\n",
    "    sigma_list.append(str(0.2))\n",
    "f.writelines(\"print(plumed_script)\\n\")\n",
    "\n",
    "#now write the individual plumed files \n",
    "for tic_index in range(n_tics):\n",
    "    f.writelines(\"plumed_%d=\\\"INCLUDE FILE=plumed-common.dat\"%tic_index+\"\\\\n\\\\\"+\"\\n\")\n",
    "\n",
    "    if grid:\n",
    "        output=\"METAD ARG=%s SIGMA=%s HEIGHT=%s FILE=HILLS BIASFACTOR=%s TEMP=%s GRID_MIN=%s GRID_MAX=%s PACE=%s LABEL=metad\"\\\n",
    "      %(''.join(arg_list[tic_index]), ''.join(sigma_list[tic_index]),\\\n",
    "        str(height), str(BIASFACTOR), str(TEMP), ''.join(grid_min_list[tic_index]), ''.join(grid_max_list[tic_index]), str(pace))+\" \\\\n\\\\\"\n",
    "        print(output)\n",
    "    else:\n",
    "        output=\"METAD ARG=%s SIGMA=%s HEIGHT=%s FILE=HILLS PACE=%s LABEL=metad\"\\\n",
    "          %(','.join(arg_list), ','.join(sigma_list),\\\n",
    "            str(height), str(pace))+\" \\\\n\\\\\"\n",
    "        print(output)\n",
    "    f.writelines(output+\"\\n\")\n",
    "    \n",
    "    output=\"PRINT ARG=%s STRIDE=%s FILE=COLVAR \\\\n\\\\\"%(','.join(arg_list), str(pace))\n",
    "    print(output)\n",
    "    f.writelines(output+\"\\n\")\n",
    "    \n",
    "    output=\"PRINT ARG=%s,metad.bias STRIDE=%s FILE=BIAS.%d\"%(''.join(arg_list[tic_index]), str(pace),tic_index)+\" \\\\n\"+'\"'\n",
    "    print(output)\n",
    "    f.writelines(output+\"\\n\")\n",
    "    \n",
    "f.close()"
   ]
  },
  {
   "cell_type": "code",
   "execution_count": null,
   "metadata": {
    "collapsed": true
   },
   "outputs": [],
   "source": []
  },
  {
   "cell_type": "code",
   "execution_count": null,
   "metadata": {
    "collapsed": true
   },
   "outputs": [],
   "source": []
  },
  {
   "cell_type": "code",
   "execution_count": null,
   "metadata": {
    "collapsed": true
   },
   "outputs": [],
   "source": []
  },
  {
   "cell_type": "code",
   "execution_count": null,
   "metadata": {
    "collapsed": true
   },
   "outputs": [],
   "source": []
  }
 ],
 "metadata": {
  "kernelspec": {
   "display_name": "Python 3",
   "language": "python",
   "name": "python3"
  },
  "language_info": {
   "codemirror_mode": {
    "name": "ipython",
    "version": 3
   },
   "file_extension": ".py",
   "mimetype": "text/x-python",
   "name": "python",
   "nbconvert_exporter": "python",
   "pygments_lexer": "ipython3",
   "version": "3.5.2"
  }
 },
 "nbformat": 4,
 "nbformat_minor": 1
}
